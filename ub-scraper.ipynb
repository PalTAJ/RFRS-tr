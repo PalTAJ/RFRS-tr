{
 "cells": [
  {
   "cell_type": "code",
   "execution_count": 1,
   "metadata": {},
   "outputs": [],
   "source": [
    "# -*- coding: utf-8 -*-\n",
    "\n"
   ]
  },
  {
   "cell_type": "code",
   "execution_count": null,
   "metadata": {},
   "outputs": [],
   "source": []
  },
  {
   "cell_type": "code",
   "execution_count": 2,
   "metadata": {},
   "outputs": [],
   "source": [
    "\n",
    "\n",
    "import  requests \n",
    "import time\n",
    "import pandas as pd\n",
    "\n",
    "from urllib.error import URLError, HTTPError\n",
    "from urllib3.exceptions import SSLError\n",
    "\n",
    "from requests.exceptions import HTTPError\n",
    "from bs4 import BeautifulSoup\n",
    "from urllib.request import urlopen, Request\n",
    "from socket import timeout\n",
    "\n"
   ]
  },
  {
   "cell_type": "code",
   "execution_count": 3,
   "metadata": {},
   "outputs": [
    {
     "name": "stdout",
     "output_type": "stream",
     "text": [
      "Done\n"
     ]
    }
   ],
   "source": [
    "\n",
    "search_start_date = '28.05.2020'\n",
    "search_end_date = '01.06.2020'\n",
    "destination = 'ESB'\n",
    "\n",
    "urls = [f'https://www.ucuzabilet.com/ic-hat-arama-sonuc?from=IST&fromIsCity=1&to={destination}&ddate={search_start_date}&adult=1']\n",
    "\n",
    "writer = open('datasets/flights_info.csv','w+')\n",
    "\n",
    "for url in urls:\n",
    "    try: \n",
    "    \n",
    "        headers = {'User-Agent': 'Mozilla/5.0 (Windows NT 6.1) AppleWebKit/537.36 (KHTML, like Gecko) Chrome/41.0.2228.0 Safari/537.3'}\n",
    "        reg_url = url\n",
    "        req = Request(url=reg_url, headers=headers) \n",
    "        html = urlopen(req).read()  \n",
    "\n",
    "        soup = BeautifulSoup(html, \"html.parser\")\n",
    "\n",
    "        \n",
    "        flight_data = soup.find_all('tr')\n",
    "        for i in flight_data:\n",
    "            i = str(i)\n",
    "            if 'class=\"flight-item' in i:\n",
    "                arrival = i.split('data-arrival-time=\"')[1].split('\"')[0].strip()\n",
    "                departure = i.split('data-departure-time=\"')[1].split('\"')[0].strip()\n",
    "                duration = i.split('data-duration-time=\"')[1].split('\"')[0].strip()\n",
    "                currency = i.split('data-currency=\"')[1].split('\"')[0].strip()\n",
    "                price = i.split('data-price=\"')[1].split('\"')[0].strip()\n",
    "                cabin = i.split(' data-cabin-type=\"')[1].split('\"')[0].strip()\n",
    "                airline = i.split('<div class=\"airline\">')[1].split('<')[0].strip()\n",
    "                if 'Hava' in airline:\n",
    "                    airline = 'THY'\n",
    "\n",
    "\n",
    "#                 print(f'Departure: {departure},Arrival: {arrival},Duration: {duration},price: {price} {currency},cabin: {cabin},airline: {airline}\\n')\n",
    "                writer.write(f\"{departure},{arrival},{duration},{price},{currency},{cabin},{airline}\\n\")\n",
    "                \n",
    "\n",
    "\n",
    "\n",
    "            \n",
    "    except HTTPError as http_err:\n",
    "        print(f'HTTP error occurred: {http_err}')  \n",
    "        pass\n",
    "    except Exception as err:\n",
    "        print(f'Other1 error occurred: {err}')  \n",
    "        pass\n",
    "    \n",
    "writer.close()\n",
    "print('Done')\n"
   ]
  },
  {
   "cell_type": "code",
   "execution_count": null,
   "metadata": {},
   "outputs": [],
   "source": []
  },
  {
   "cell_type": "code",
   "execution_count": null,
   "metadata": {},
   "outputs": [],
   "source": []
  }
 ],
 "metadata": {
  "kernelspec": {
   "display_name": "Python 3",
   "language": "python",
   "name": "python3"
  },
  "language_info": {
   "codemirror_mode": {
    "name": "ipython",
    "version": 3
   },
   "file_extension": ".py",
   "mimetype": "text/x-python",
   "name": "python",
   "nbconvert_exporter": "python",
   "pygments_lexer": "ipython3",
   "version": "3.6.8"
  }
 },
 "nbformat": 4,
 "nbformat_minor": 4
}
