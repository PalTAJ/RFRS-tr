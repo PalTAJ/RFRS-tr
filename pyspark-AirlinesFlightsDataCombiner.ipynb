{
 "cells": [
  {
   "cell_type": "code",
   "execution_count": 1,
   "metadata": {},
   "outputs": [],
   "source": [
    "import pandas as pd\n",
    "from pyspark.sql import SQLContext\n",
    "from pyspark.sql.functions import *\n",
    "from pyspark import SparkContext\n",
    "sc = SparkContext()\n",
    "sqlContext = SQLContext(sc)"
   ]
  },
  {
   "cell_type": "code",
   "execution_count": 2,
   "metadata": {},
   "outputs": [],
   "source": [
    "import pandas as pd"
   ]
  },
  {
   "cell_type": "code",
   "execution_count": 3,
   "metadata": {},
   "outputs": [],
   "source": [
    "# Reccomedation Inputs\n",
    "\n",
    "Flight = ''\n",
    "Price = True  # true for low, false to disable it.\n",
    "Type = 'ECONOMY' # or  PROMO\n",
    "Safety_Rating = '10.0'\n",
    "Product_Rating = '8.0'\n",
    "Flight_Time = True"
   ]
  },
  {
   "cell_type": "code",
   "execution_count": 4,
   "metadata": {},
   "outputs": [
    {
     "name": "stdout",
     "output_type": "stream",
     "text": [
      "+----------+----------------+----------------+---------------------+------+--------+-------+\n",
      "|   Airline|  Departure Time|    Arrival Time|Flight Time(by mints)| Price|Currency|   Type|\n",
      "+----------+----------------+----------------+---------------------+------+--------+-------+\n",
      "|   Pegasus|2020-06-06 06:20|2020-06-06 07:25|                   65|157.99|     TRY|ECONOMY|\n",
      "|       THY|2020-06-06 11:15|2020-06-06 12:30|                   75|193.99|     TRY|ECONOMY|\n",
      "|       THY|2020-06-06 16:30|2020-06-06 17:45|                   75|193.99|     TRY|ECONOMY|\n",
      "|       THY|2020-06-06 19:25|2020-06-06 20:40|                   75|193.99|     TRY|ECONOMY|\n",
      "|Anadolujet|2020-06-06 10:00|2020-06-06 11:05|                   65|201.99|     TRY|ECONOMY|\n",
      "|   Pegasus|2020-06-06 20:25|2020-06-06 21:30|                   65|207.99|     TRY|ECONOMY|\n",
      "|       THY|2020-06-06 19:30|2020-06-06 23:10|                  220|330.99|     TRY|ECONOMY|\n",
      "|   Pegasus|2020-07-06 11:00|2020-07-06 12:10|                   70|157.99|     TRY|ECONOMY|\n",
      "|   Pegasus|2020-07-06 15:20|2020-07-06 16:25|                   65|157.99|     TRY|ECONOMY|\n",
      "|   Pegasus|2020-07-06 17:25|2020-07-06 18:35|                   70|157.99|     TRY|ECONOMY|\n",
      "|   Pegasus|2020-07-06 20:15|2020-07-06 21:25|                   70|157.99|     TRY|ECONOMY|\n",
      "|   Pegasus|2020-07-06 22:20|2020-07-06 23:30|                   70|157.99|     TRY|ECONOMY|\n",
      "|   Pegasus|2020-07-06 23:55|2020-07-07 01:05|                   70|157.99|     TRY|ECONOMY|\n",
      "|   Pegasus|2020-07-06 06:15|2020-07-06 07:25|                   70|182.99|     TRY|ECONOMY|\n",
      "|   Pegasus|2020-07-06 07:10|2020-07-06 08:20|                   70|182.99|     TRY|ECONOMY|\n",
      "|       THY|2020-07-06 11:30|2020-07-06 12:35|                   65|203.99|     TRY|ECONOMY|\n",
      "|       THY|2020-07-06 15:45|2020-07-06 16:45|                   60|203.99|     TRY|ECONOMY|\n",
      "|       THY|2020-07-06 19:35|2020-07-06 20:40|                   65|203.99|     TRY|ECONOMY|\n",
      "|Anadolujet|2020-07-06 06:40|2020-07-06 07:45|                   65|247.99|     TRY|ECONOMY|\n",
      "|Anadolujet|2020-07-06 07:35|2020-07-06 08:40|                   65|247.99|     TRY|ECONOMY|\n",
      "+----------+----------------+----------------+---------------------+------+--------+-------+\n",
      "only showing top 20 rows\n",
      "\n"
     ]
    }
   ],
   "source": [
    "rdd = sc.textFile('datasets/flights_info.csv')\n",
    "rawdata = rdd.map(lambda x: (x.split(\",\")[6] ,x.split(\",\")[0], x.split(\",\")[1], int(x.split(\",\")[2]), float(x.split(\",\")[3]),x.split(\",\")[4],x.split(\",\")[5]))\n",
    "\n",
    "rawdataframe = sqlContext.createDataFrame(rawdata, ['Airline',\"Departure Time\", \"Arrival Time\", \"Flight Time(by mints)\",'Price','Currency','Type'])\n",
    "rawdataframe.show()"
   ]
  },
  {
   "cell_type": "code",
   "execution_count": null,
   "metadata": {},
   "outputs": [],
   "source": []
  },
  {
   "cell_type": "code",
   "execution_count": 5,
   "metadata": {},
   "outputs": [
    {
     "name": "stdout",
     "output_type": "stream",
     "text": [
      "+----------------+-------------+--------------+----------+\n",
      "|         Airline|Safety Rating|Product Rating|      Jets|\n",
      "+----------------+-------------+--------------+----------+\n",
      "|      AnadoluJet|           10|           8.0|['737-800'|\n",
      "|Turkish Airlines|           10|           8.5|['737-800'|\n",
      "|         Pegasus|          8.5|           6.0|['737-800'|\n",
      "+----------------+-------------+--------------+----------+\n",
      "\n"
     ]
    }
   ],
   "source": [
    "rdd2 = sc.textFile('datasets/airlines_info.csv')\n",
    "\n",
    "rdd3 = rdd2.map(lambda x: (x.split(\",\")[0], x.split(\",\")[1], x.split(\",\")[2], x.split(\",\")[3]))\n",
    "\n",
    "rawdataframe2 = sqlContext.createDataFrame(rdd3, [\"Airline\", \"Safety Rating\", \"Product Rating\",'Jets'])\n",
    "rawdataframe2.show()\n"
   ]
  },
  {
   "cell_type": "code",
   "execution_count": 6,
   "metadata": {},
   "outputs": [],
   "source": [
    "\n",
    "rawdataframe2 = rawdataframe.withColumn(\"Safety Rating\",\n",
    "       when(col(\"Airline\") == \"Anadolujet\", \"10.0\")\n",
    "      .when(col(\"Airline\") == \"THY\", \"10.0\")\n",
    "      .when(col(\"Airline\") == \"Pegasus\", \"8.5\")\n",
    "      .otherwise(\"null\"))\n",
    "\n",
    "\n",
    "rawdataframe3 = rawdataframe2.withColumn(\"Product Rating\",\n",
    "       when(col(\"Airline\") == \"Anadolujet\", \"7.5\")\n",
    "      .when(col(\"Airline\") == \"THY\", \"8.5\")\n",
    "      .when(col(\"Airline\") == \"Pegasus\", \"6.0\")\n",
    "      .otherwise(\"null\"))\n",
    "\n",
    "\n"
   ]
  },
  {
   "cell_type": "code",
   "execution_count": 7,
   "metadata": {},
   "outputs": [
    {
     "name": "stdout",
     "output_type": "stream",
     "text": [
      "+----------+----------------+----------------+---------------------+------+--------+-------+-------------+--------------+\n",
      "|   Airline|  Departure Time|    Arrival Time|Flight Time(by mints)| Price|Currency|   Type|Safety Rating|Product Rating|\n",
      "+----------+----------------+----------------+---------------------+------+--------+-------+-------------+--------------+\n",
      "|   Pegasus|2020-06-06 06:20|2020-06-06 07:25|                   65|157.99|     TRY|ECONOMY|          8.5|           6.0|\n",
      "|       THY|2020-06-06 11:15|2020-06-06 12:30|                   75|193.99|     TRY|ECONOMY|         10.0|           8.5|\n",
      "|       THY|2020-06-06 16:30|2020-06-06 17:45|                   75|193.99|     TRY|ECONOMY|         10.0|           8.5|\n",
      "|       THY|2020-06-06 19:25|2020-06-06 20:40|                   75|193.99|     TRY|ECONOMY|         10.0|           8.5|\n",
      "|Anadolujet|2020-06-06 10:00|2020-06-06 11:05|                   65|201.99|     TRY|ECONOMY|         10.0|           7.5|\n",
      "|   Pegasus|2020-06-06 20:25|2020-06-06 21:30|                   65|207.99|     TRY|ECONOMY|          8.5|           6.0|\n",
      "|       THY|2020-06-06 19:30|2020-06-06 23:10|                  220|330.99|     TRY|ECONOMY|         10.0|           8.5|\n",
      "|   Pegasus|2020-07-06 11:00|2020-07-06 12:10|                   70|157.99|     TRY|ECONOMY|          8.5|           6.0|\n",
      "|   Pegasus|2020-07-06 15:20|2020-07-06 16:25|                   65|157.99|     TRY|ECONOMY|          8.5|           6.0|\n",
      "|   Pegasus|2020-07-06 17:25|2020-07-06 18:35|                   70|157.99|     TRY|ECONOMY|          8.5|           6.0|\n",
      "|   Pegasus|2020-07-06 20:15|2020-07-06 21:25|                   70|157.99|     TRY|ECONOMY|          8.5|           6.0|\n",
      "|   Pegasus|2020-07-06 22:20|2020-07-06 23:30|                   70|157.99|     TRY|ECONOMY|          8.5|           6.0|\n",
      "|   Pegasus|2020-07-06 23:55|2020-07-07 01:05|                   70|157.99|     TRY|ECONOMY|          8.5|           6.0|\n",
      "|   Pegasus|2020-07-06 06:15|2020-07-06 07:25|                   70|182.99|     TRY|ECONOMY|          8.5|           6.0|\n",
      "|   Pegasus|2020-07-06 07:10|2020-07-06 08:20|                   70|182.99|     TRY|ECONOMY|          8.5|           6.0|\n",
      "|       THY|2020-07-06 11:30|2020-07-06 12:35|                   65|203.99|     TRY|ECONOMY|         10.0|           8.5|\n",
      "|       THY|2020-07-06 15:45|2020-07-06 16:45|                   60|203.99|     TRY|ECONOMY|         10.0|           8.5|\n",
      "|       THY|2020-07-06 19:35|2020-07-06 20:40|                   65|203.99|     TRY|ECONOMY|         10.0|           8.5|\n",
      "|Anadolujet|2020-07-06 06:40|2020-07-06 07:45|                   65|247.99|     TRY|ECONOMY|         10.0|           7.5|\n",
      "|Anadolujet|2020-07-06 07:35|2020-07-06 08:40|                   65|247.99|     TRY|ECONOMY|         10.0|           7.5|\n",
      "+----------+----------------+----------------+---------------------+------+--------+-------+-------------+--------------+\n",
      "only showing top 20 rows\n",
      "\n"
     ]
    }
   ],
   "source": [
    "rawdataframe3.show()"
   ]
  },
  {
   "cell_type": "code",
   "execution_count": 8,
   "metadata": {
    "scrolled": true
   },
   "outputs": [
    {
     "name": "stdout",
     "output_type": "stream",
     "text": [
      "+-------+----------------+----------------+---------------------+------+--------+-------+-------------+--------------+\n",
      "|Airline|  Departure Time|    Arrival Time|Flight Time(by mints)| Price|Currency|   Type|Safety Rating|Product Rating|\n",
      "+-------+----------------+----------------+---------------------+------+--------+-------+-------------+--------------+\n",
      "|Pegasus|2020-11-06 08:15|2020-11-06 09:25|                   70| 87.99|     TRY|  PROMO|          8.5|           6.0|\n",
      "|Pegasus|2020-12-06 08:15|2020-12-06 09:25|                   70| 87.99|     TRY|  PROMO|          8.5|           6.0|\n",
      "|Pegasus|2020-11-06 18:10|2020-11-06 19:20|                   70| 87.99|     TRY|  PROMO|          8.5|           6.0|\n",
      "|Pegasus|2020-12-06 09:40|2020-12-06 10:50|                   70| 87.99|     TRY|  PROMO|          8.5|           6.0|\n",
      "|Pegasus|2020-12-06 11:20|2020-12-06 12:30|                   70| 87.99|     TRY|  PROMO|          8.5|           6.0|\n",
      "|Pegasus|2020-11-06 18:20|2020-11-06 19:30|                   70| 87.99|     TRY|  PROMO|          8.5|           6.0|\n",
      "|Pegasus|2020-12-06 17:25|2020-12-06 18:35|                   70| 87.99|     TRY|  PROMO|          8.5|           6.0|\n",
      "|Pegasus|2020-11-06 07:10|2020-11-06 08:20|                   70| 87.99|     TRY|  PROMO|          8.5|           6.0|\n",
      "|Pegasus|2020-12-06 06:10|2020-12-06 07:20|                   70| 87.99|     TRY|  PROMO|          8.5|           6.0|\n",
      "|Pegasus|2020-11-06 12:40|2020-11-06 13:50|                   70| 97.99|     TRY|  PROMO|          8.5|           6.0|\n",
      "|Pegasus|2020-11-06 06:10|2020-11-06 07:20|                   70| 97.99|     TRY|  PROMO|          8.5|           6.0|\n",
      "|Pegasus|2020-11-06 11:20|2020-11-06 12:30|                   70| 97.99|     TRY|  PROMO|          8.5|           6.0|\n",
      "|Pegasus|2020-11-06 17:25|2020-11-06 18:35|                   70| 97.99|     TRY|  PROMO|          8.5|           6.0|\n",
      "|Pegasus|2020-11-06 14:25|2020-11-06 15:35|                   70| 97.99|     TRY|  PROMO|          8.5|           6.0|\n",
      "|Pegasus|2020-12-06 15:45|2020-12-06 16:55|                   70| 97.99|     TRY|  PROMO|          8.5|           6.0|\n",
      "|Pegasus|2020-11-06 19:25|2020-11-06 20:35|                   70|107.99|     TRY|ECONOMY|          8.5|           6.0|\n",
      "|Pegasus|2020-12-06 18:00|2020-12-06 19:10|                   70|107.99|     TRY|ECONOMY|          8.5|           6.0|\n",
      "|Pegasus|2020-11-06 23:30|2020-11-07 00:40|                   70|107.99|     TRY|ECONOMY|          8.5|           6.0|\n",
      "|Pegasus|2020-11-06 15:50|2020-11-06 17:00|                   70|107.99|     TRY|ECONOMY|          8.5|           6.0|\n",
      "|Pegasus|2020-12-06 23:30|2020-12-07 00:40|                   70|107.99|     TRY|ECONOMY|          8.5|           6.0|\n",
      "+-------+----------------+----------------+---------------------+------+--------+-------+-------------+--------------+\n",
      "only showing top 20 rows\n",
      "\n"
     ]
    }
   ],
   "source": [
    "# sorted by price \n",
    "\n",
    "\n",
    "dff2 = rawdataframe3.orderBy('Price', ascending=True)\n",
    "dff2.show()\n"
   ]
  },
  {
   "cell_type": "code",
   "execution_count": null,
   "metadata": {},
   "outputs": [],
   "source": []
  },
  {
   "cell_type": "code",
   "execution_count": 9,
   "metadata": {},
   "outputs": [
    {
     "name": "stdout",
     "output_type": "stream",
     "text": [
      "Cheapest Price per Airline: \n",
      "+----------+----------+\n",
      "|   Airline|min(Price)|\n",
      "+----------+----------+\n",
      "|       THY|    113.99|\n",
      "|Anadolujet|    160.99|\n",
      "|   Pegasus|     87.99|\n",
      "+----------+----------+\n",
      "\n",
      "Highest Price per Airline: \n",
      "+----------+----------+\n",
      "|   Airline|max(Price)|\n",
      "+----------+----------+\n",
      "|       THY|    726.99|\n",
      "|Anadolujet|    711.99|\n",
      "|   Pegasus|    339.99|\n",
      "+----------+----------+\n",
      "\n"
     ]
    }
   ],
   "source": [
    "print('Cheapest Price per Airline: ')\n",
    "dff2.groupby('Airline').agg({'Price': 'min'}).show()\n",
    "\n",
    "print('Highest Price per Airline: ')\n",
    "dff2.groupby('Airline').agg({'Price': 'Max'}).show()"
   ]
  },
  {
   "cell_type": "code",
   "execution_count": 10,
   "metadata": {},
   "outputs": [
    {
     "name": "stdout",
     "output_type": "stream",
     "text": [
      "Shows the flights for alirlines with 10 safety score\n",
      "+----------+----------------+----------------+---------------------+------+--------+-------+-------------+--------------+\n",
      "|   Airline|  Departure Time|    Arrival Time|Flight Time(by mints)| Price|Currency|   Type|Safety Rating|Product Rating|\n",
      "+----------+----------------+----------------+---------------------+------+--------+-------+-------------+--------------+\n",
      "|       THY|2020-10-06 11:30|2020-10-06 12:35|                   65|113.99|     TRY|ECONOMY|         10.0|           8.5|\n",
      "|       THY|2020-10-06 07:15|2020-10-06 08:25|                   70|113.99|     TRY|ECONOMY|         10.0|           8.5|\n",
      "|       THY|2020-10-06 19:35|2020-10-06 20:40|                   65|113.99|     TRY|ECONOMY|         10.0|           8.5|\n",
      "|       THY|2020-10-06 15:45|2020-10-06 16:45|                   60|113.99|     TRY|ECONOMY|         10.0|           8.5|\n",
      "|Anadolujet|2020-11-06 15:30|2020-11-06 16:30|                   60|160.99|     TRY|ECONOMY|         10.0|           7.5|\n",
      "+----------+----------------+----------------+---------------------+------+--------+-------+-------------+--------------+\n",
      "only showing top 5 rows\n",
      "\n"
     ]
    }
   ],
   "source": [
    "print('Shows the flights for alirlines with 10 safety score')\n",
    "\n",
    "dff2.filter(dff2['Safety Rating'] == '10.0').show(5)"
   ]
  },
  {
   "cell_type": "code",
   "execution_count": 11,
   "metadata": {},
   "outputs": [
    {
     "name": "stdout",
     "output_type": "stream",
     "text": [
      "Shows Airlines Safety Ratings: \n",
      "+----------+------------------+\n",
      "|   Airline|min(Safety Rating)|\n",
      "+----------+------------------+\n",
      "|       THY|              10.0|\n",
      "|Anadolujet|              10.0|\n",
      "|   Pegasus|               8.5|\n",
      "+----------+------------------+\n",
      "\n",
      "Shows the lowest price of flights for airlines with 10 safety score\n",
      "+----------+----------+\n",
      "|   Airline|min(Price)|\n",
      "+----------+----------+\n",
      "|       THY|    113.99|\n",
      "|Anadolujet|    160.99|\n",
      "+----------+----------+\n",
      "\n",
      "Shows the highest price of flights for airlines with 10 safety score\n",
      "+----------+----------+\n",
      "|   Airline|max(Price)|\n",
      "+----------+----------+\n",
      "|       THY|    726.99|\n",
      "|Anadolujet|    711.99|\n",
      "+----------+----------+\n",
      "\n"
     ]
    }
   ],
   "source": [
    "print('Shows Airlines Safety Ratings: ')\n",
    "dff2.groupby('Airline').agg({'Safety Rating': 'min'}).show()\n",
    "\n",
    "print('Shows the lowest price of flights for airlines with 10 safety score')\n",
    "dff2.filter(dff2['Safety Rating'] == '10.0').groupby('Airline').agg({'Price': 'min'}).show()\n",
    "\n",
    "print('Shows the highest price of flights for airlines with 10 safety score')\n",
    "dff2.filter(dff2['Safety Rating'] == '10.0').groupby('Airline').agg({'Price': 'max'}).show()\n"
   ]
  },
  {
   "cell_type": "code",
   "execution_count": 12,
   "metadata": {},
   "outputs": [
    {
     "name": "stdout",
     "output_type": "stream",
     "text": [
      "Shows the flights for alirlines with 7 product score\n",
      "+----------+----------------+----------------+---------------------+------+--------+-------+-------------+--------------+\n",
      "|   Airline|  Departure Time|    Arrival Time|Flight Time(by mints)| Price|Currency|   Type|Safety Rating|Product Rating|\n",
      "+----------+----------------+----------------+---------------------+------+--------+-------+-------------+--------------+\n",
      "|       THY|2020-10-06 11:30|2020-10-06 12:35|                   65|113.99|     TRY|ECONOMY|         10.0|           8.5|\n",
      "|       THY|2020-10-06 07:15|2020-10-06 08:25|                   70|113.99|     TRY|ECONOMY|         10.0|           8.5|\n",
      "|       THY|2020-10-06 19:35|2020-10-06 20:40|                   65|113.99|     TRY|ECONOMY|         10.0|           8.5|\n",
      "|       THY|2020-10-06 15:45|2020-10-06 16:45|                   60|113.99|     TRY|ECONOMY|         10.0|           8.5|\n",
      "|Anadolujet|2020-11-06 15:30|2020-11-06 16:30|                   60|160.99|     TRY|ECONOMY|         10.0|           7.5|\n",
      "+----------+----------------+----------------+---------------------+------+--------+-------+-------------+--------------+\n",
      "only showing top 5 rows\n",
      "\n"
     ]
    }
   ],
   "source": [
    "print('Shows the flights for alirlines with 7 product score')\n",
    "\n",
    "dff2.filter(dff2['Product Rating'] > '7.0').show(5)"
   ]
  },
  {
   "cell_type": "code",
   "execution_count": 13,
   "metadata": {},
   "outputs": [
    {
     "name": "stdout",
     "output_type": "stream",
     "text": [
      "Shows Airlines Product Ratings: \n",
      "+----------+-------------------+\n",
      "|   Airline|min(Product Rating)|\n",
      "+----------+-------------------+\n",
      "|       THY|                8.5|\n",
      "|Anadolujet|                7.5|\n",
      "|   Pegasus|                6.0|\n",
      "+----------+-------------------+\n",
      "\n",
      "Shows the lowest price of flights for alirlines with 7 product score\n",
      "+----------+----------+\n",
      "|   Airline|min(Price)|\n",
      "+----------+----------+\n",
      "|       THY|    113.99|\n",
      "|Anadolujet|    160.99|\n",
      "+----------+----------+\n",
      "\n",
      "Shows the highest price of flights for alirlines with 7 product score\n",
      "+----------+----------+\n",
      "|   Airline|max(Price)|\n",
      "+----------+----------+\n",
      "|       THY|    726.99|\n",
      "|Anadolujet|    711.99|\n",
      "+----------+----------+\n",
      "\n"
     ]
    }
   ],
   "source": [
    "print('Shows Airlines Product Ratings: ')\n",
    "dff2.groupby('Airline').agg({'Product Rating': 'min'}).show()\n",
    "\n",
    "print('Shows the lowest price of flights for alirlines with 7 product score')\n",
    "dff2.filter(dff2['Product Rating'] > '7.0').groupby('Airline').agg({'Price': 'min'}).show()\n",
    "\n",
    "print('Shows the highest price of flights for alirlines with 7 product score')\n",
    "dff2.filter(dff2['Product Rating'] > '7.0').groupby('Airline').agg({'Price': 'max'}).show()\n"
   ]
  },
  {
   "cell_type": "code",
   "execution_count": 14,
   "metadata": {},
   "outputs": [
    {
     "name": "stdout",
     "output_type": "stream",
     "text": [
      "Shows the flights that has a promo\n",
      "+-------+----------------+----------------+---------------------+-----+--------+-----+-------------+--------------+\n",
      "|Airline|  Departure Time|    Arrival Time|Flight Time(by mints)|Price|Currency| Type|Safety Rating|Product Rating|\n",
      "+-------+----------------+----------------+---------------------+-----+--------+-----+-------------+--------------+\n",
      "|Pegasus|2020-11-06 07:10|2020-11-06 08:20|                   70|87.99|     TRY|PROMO|          8.5|           6.0|\n",
      "|Pegasus|2020-11-06 08:15|2020-11-06 09:25|                   70|87.99|     TRY|PROMO|          8.5|           6.0|\n",
      "|Pegasus|2020-11-06 18:10|2020-11-06 19:20|                   70|87.99|     TRY|PROMO|          8.5|           6.0|\n",
      "|Pegasus|2020-11-06 18:20|2020-11-06 19:30|                   70|87.99|     TRY|PROMO|          8.5|           6.0|\n",
      "|Pegasus|2020-12-06 06:10|2020-12-06 07:20|                   70|87.99|     TRY|PROMO|          8.5|           6.0|\n",
      "+-------+----------------+----------------+---------------------+-----+--------+-----+-------------+--------------+\n",
      "only showing top 5 rows\n",
      "\n"
     ]
    }
   ],
   "source": [
    "print('Shows the flights that has a promo')\n",
    "\n",
    "dff2.filter(dff2.Type.contains('PROMO')).show(5)"
   ]
  },
  {
   "cell_type": "code",
   "execution_count": 15,
   "metadata": {},
   "outputs": [
    {
     "name": "stdout",
     "output_type": "stream",
     "text": [
      "Shows Airlines min price per type: \n",
      "+----------+-------+----------+\n",
      "|   Airline|   Type|min(Price)|\n",
      "+----------+-------+----------+\n",
      "|   Pegasus|ECONOMY|    107.99|\n",
      "|   Pegasus|  PROMO|     87.99|\n",
      "|       THY|ECONOMY|    113.99|\n",
      "|Anadolujet|ECONOMY|    160.99|\n",
      "+----------+-------+----------+\n",
      "\n",
      "Shows Airlines max price per type: \n",
      "+----------+-------+----------+\n",
      "|   Airline|   Type|max(Price)|\n",
      "+----------+-------+----------+\n",
      "|   Pegasus|ECONOMY|    339.99|\n",
      "|   Pegasus|  PROMO|     97.99|\n",
      "|       THY|ECONOMY|    726.99|\n",
      "|Anadolujet|ECONOMY|    711.99|\n",
      "+----------+-------+----------+\n",
      "\n"
     ]
    }
   ],
   "source": [
    "print('Shows Airlines min price per type: ')\n",
    "dff2.groupby('Airline','Type').agg({'Price': 'min'}).show()\n",
    "\n",
    "print('Shows Airlines max price per type: ')\n",
    "dff2.groupby('Airline','Type').agg({'Price': 'max'}).show()\n",
    "\n"
   ]
  },
  {
   "cell_type": "code",
   "execution_count": null,
   "metadata": {},
   "outputs": [],
   "source": []
  },
  {
   "cell_type": "code",
   "execution_count": 16,
   "metadata": {},
   "outputs": [
    {
     "name": "stdout",
     "output_type": "stream",
     "text": [
      "Shows Airlines min Fly Time: \n",
      "+----------+--------------------------+\n",
      "|   Airline|min(Flight Time(by mints))|\n",
      "+----------+--------------------------+\n",
      "|       THY|                        60|\n",
      "|Anadolujet|                        60|\n",
      "|   Pegasus|                        65|\n",
      "+----------+--------------------------+\n",
      "\n",
      "Shows Airlines max Fly Time: \n",
      "+----------+--------------------------+\n",
      "|   Airline|max(Flight Time(by mints))|\n",
      "+----------+--------------------------+\n",
      "|       THY|                       240|\n",
      "|Anadolujet|                       245|\n",
      "|   Pegasus|                        70|\n",
      "+----------+--------------------------+\n",
      "\n"
     ]
    }
   ],
   "source": [
    "print('Shows Airlines min Fly Time: ')\n",
    "dff2.groupby('Airline').agg({'Flight Time(by mints)': 'min'}).show()\n",
    "\n",
    "print('Shows Airlines max Fly Time: ')\n",
    "dff2.groupby('Airline').agg({'Flight Time(by mints)': 'max'}).show()\n",
    "\n"
   ]
  },
  {
   "cell_type": "code",
   "execution_count": null,
   "metadata": {},
   "outputs": [],
   "source": []
  },
  {
   "cell_type": "code",
   "execution_count": null,
   "metadata": {},
   "outputs": [],
   "source": []
  },
  {
   "cell_type": "code",
   "execution_count": null,
   "metadata": {},
   "outputs": [],
   "source": []
  },
  {
   "cell_type": "code",
   "execution_count": 17,
   "metadata": {},
   "outputs": [],
   "source": [
    "# rawdataframe3.toPandas().to_csv('datasets/Flights_Airlines_Data_Combined.csv')"
   ]
  }
 ],
 "metadata": {
  "kernelspec": {
   "display_name": "Python 3",
   "language": "python",
   "name": "python3"
  },
  "language_info": {
   "codemirror_mode": {
    "name": "ipython",
    "version": 3
   },
   "file_extension": ".py",
   "mimetype": "text/x-python",
   "name": "python",
   "nbconvert_exporter": "python",
   "pygments_lexer": "ipython3",
   "version": "3.7.6"
  }
 },
 "nbformat": 4,
 "nbformat_minor": 4
}
