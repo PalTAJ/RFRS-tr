{
 "cells": [
  {
   "cell_type": "code",
   "execution_count": 1,
   "metadata": {},
   "outputs": [],
   "source": [
    "import pandas as pd\n",
    "from pyspark.sql import SQLContext\n",
    "from pyspark.sql.functions import *\n",
    "from pyspark import SparkContext\n",
    "sc = SparkContext()\n",
    "sqlContext = SQLContext(sc)"
   ]
  },
  {
   "cell_type": "code",
   "execution_count": 16,
   "metadata": {},
   "outputs": [
    {
     "name": "stdout",
     "output_type": "stream",
     "text": [
      "+----------+--------------+------+\n",
      "|     Brand|Departure Time| Price|\n",
      "+----------+--------------+------+\n",
      "|   Pegasus|         06:20|157.99|\n",
      "|       THY|         11:15|193.99|\n",
      "|       THY|         16:30|193.99|\n",
      "|       THY|         19:25|193.99|\n",
      "|Anadolujet|         10:00|201.99|\n",
      "|   Pegasus|         20:25|207.99|\n",
      "|       THY|         19:30|330.99|\n",
      "|   Pegasus|         11:00|157.99|\n",
      "|   Pegasus|         15:20|157.99|\n",
      "|   Pegasus|         17:25|157.99|\n",
      "|   Pegasus|         20:15|157.99|\n",
      "|   Pegasus|         22:20|157.99|\n",
      "|   Pegasus|         23:55|157.99|\n",
      "|   Pegasus|         06:15|182.99|\n",
      "|   Pegasus|         07:10|182.99|\n",
      "|       THY|         11:30|203.99|\n",
      "|       THY|         15:45|203.99|\n",
      "|       THY|         19:35|203.99|\n",
      "|Anadolujet|         06:40|247.99|\n",
      "|Anadolujet|         07:35|247.99|\n",
      "+----------+--------------+------+\n",
      "only showing top 20 rows\n",
      "\n"
     ]
    }
   ],
   "source": [
    "rdd = sc.textFile('datasets/flights_info.csv')\n",
    "# rdd.collect()\n",
    "rawdata = rdd.map(lambda x: (x.split(\",\")[-1], x.split(\",\")[0].split(' ')[1] ,float(x.split(\",\")[3])))\n",
    "rawdataframe = sqlContext.createDataFrame(rawdata, [\"Brand\", \"Departure Time\", \"Price\"])\n",
    "rawdataframe.show()"
   ]
  },
  {
   "cell_type": "code",
   "execution_count": 17,
   "metadata": {},
   "outputs": [
    {
     "name": "stdout",
     "output_type": "stream",
     "text": [
      "+----------+------------------+\n",
      "|     Brand|     Average Price|\n",
      "+----------+------------------+\n",
      "|   Pegasus|144.23561403508762|\n",
      "|       THY| 292.2900000000004|\n",
      "|Anadolujet| 387.1744444444443|\n",
      "+----------+------------------+\n",
      "\n"
     ]
    }
   ],
   "source": [
    "average_priceof_month = rawdataframe.groupBy('Brand').agg(avg('Price').alias('Average Price')).dropna().orderBy(\"Average Price\")\n",
    "average_priceof_month.show()"
   ]
  },
  {
   "cell_type": "code",
   "execution_count": 18,
   "metadata": {},
   "outputs": [
    {
     "data": {
      "text/plain": [
       "<matplotlib.axes._subplots.AxesSubplot at 0x22fa5de10c8>"
      ]
     },
     "execution_count": 18,
     "metadata": {},
     "output_type": "execute_result"
    },
    {
     "data": {
      "image/png": "[encoded data removed]",
      "text/plain": [
       "<Figure size 432x288 with 1 Axes>"
      ]
     },
     "metadata": {
      "needs_background": "light"
     },
     "output_type": "display_data"
    }
   ],
   "source": [
    "average_data = average_priceof_month.toPandas()\n",
    "average_data.plot(x = \"Brand\", kind = \"bar\", title = \"Average price of a month\")"
   ]
  },
  {
   "cell_type": "code",
   "execution_count": 19,
   "metadata": {},
   "outputs": [
    {
     "name": "stdout",
     "output_type": "stream",
     "text": [
      "+----------+-----------------------+\n",
      "|     Brand|Total Number of Flights|\n",
      "+----------+-----------------------+\n",
      "|       THY|                    180|\n",
      "|Anadolujet|                     90|\n",
      "|   Pegasus|                     57|\n",
      "+----------+-----------------------+\n",
      "\n"
     ]
    }
   ],
   "source": [
    "total_flights = rawdataframe.groupBy(\"Brand\").agg(count(\"Price\").alias(\"Total Number of Flights\"))\n",
    "total_flights.show()"
   ]
  },
  {
   "cell_type": "code",
   "execution_count": 20,
   "metadata": {},
   "outputs": [
    {
     "data": {
      "text/plain": [
       "<matplotlib.axes._subplots.AxesSubplot at 0x22fa5e4d648>"
      ]
     },
     "execution_count": 20,
     "metadata": {},
     "output_type": "execute_result"
    },
    {
     "data": {
      "image/png": "[encoded data removed]",
      "text/plain": [
       "<Figure size 432x288 with 1 Axes>"
      ]
     },
     "metadata": {
      "needs_background": "light"
     },
     "output_type": "display_data"
    }
   ],
   "source": [
    "totalflight_dataframe = total_flights.toPandas()\n",
    "totalflight_dataframe.plot(x = \"Brand\", kind = \"bar\", title = \"Total Flights\")"
   ]
  },
  {
   "cell_type": "code",
   "execution_count": 21,
   "metadata": {},
   "outputs": [],
   "source": [
    "def strtotime(x):\n",
    "    return int(x.split(\":\")[0])"
   ]
  },
  {
   "cell_type": "code",
   "execution_count": 22,
   "metadata": {},
   "outputs": [],
   "source": [
    "rdd = sc.textFile('datasets/flights_info.csv')\n",
    "\n",
    "rdd2 = rdd.map(lambda x: (x.split(\",\")[-1], x.split(\",\")[0].split(' ')[1].split(':')[0] ,float(x.split(\",\")[3])))"
   ]
  },
  {
   "cell_type": "code",
   "execution_count": 23,
   "metadata": {},
   "outputs": [],
   "source": [
    "datafr = sqlContext.createDataFrame(rdd2, [\"Brand\", \"Departure Time\", \"Price\"])"
   ]
  },
  {
   "cell_type": "code",
   "execution_count": 24,
   "metadata": {},
   "outputs": [],
   "source": [
    "fdata = datafr.rollup(\"Brand\", \"Departure Time\").agg(avg(\"Price\").alias(\"Average Price\")).dropna().orderBy(\"Departure Time\")\n",
    "# fdata.show(1000)"
   ]
  },
  {
   "cell_type": "code",
   "execution_count": 25,
   "metadata": {},
   "outputs": [
    {
     "name": "stdout",
     "output_type": "stream",
     "text": [
      "+-----+--------------+------------------+\n",
      "|Brand|Departure Time|     Average Price|\n",
      "+-----+--------------+------------------+\n",
      "|  THY|            02|            228.49|\n",
      "|  THY|            06|            229.49|\n",
      "|  THY|            07|201.90666666666667|\n",
      "|  THY|            08|            336.99|\n",
      "|  THY|            09| 290.6566666666667|\n",
      "|  THY|            10|            203.49|\n",
      "|  THY|            11|            326.74|\n",
      "|  THY|            12|212.15666666666667|\n",
      "|  THY|            13|            255.49|\n",
      "|  THY|            14|223.65666666666667|\n",
      "|  THY|            15|            293.79|\n",
      "|  THY|            16|463.45153846153846|\n",
      "|  THY|            17|236.41857142857143|\n",
      "|  THY|            18|           321.615|\n",
      "|  THY|            19| 326.4636842105263|\n",
      "|  THY|            20| 406.9066666666667|\n",
      "|  THY|            21|316.27571428571434|\n",
      "|  THY|            22|            223.19|\n",
      "|  THY|            23|            228.49|\n",
      "+-----+--------------+------------------+\n",
      "\n",
      "+-------+--------------+------------------+\n",
      "|  Brand|Departure Time|     Average Price|\n",
      "+-------+--------------+------------------+\n",
      "|Pegasus|            00|            236.99|\n",
      "|Pegasus|            06|            130.99|\n",
      "|Pegasus|            07|158.39000000000001|\n",
      "|Pegasus|            08|             87.99|\n",
      "|Pegasus|            09|120.99000000000001|\n",
      "|Pegasus|            11|160.79000000000002|\n",
      "|Pegasus|            12|            163.99|\n",
      "|Pegasus|            13|            126.99|\n",
      "|Pegasus|            14|             97.99|\n",
      "|Pegasus|            15|            151.59|\n",
      "|Pegasus|            16|            116.99|\n",
      "|Pegasus|            17|114.65666666666668|\n",
      "|Pegasus|            18|147.15666666666667|\n",
      "|Pegasus|            19|            117.49|\n",
      "|Pegasus|            20|167.79000000000002|\n",
      "|Pegasus|            22|            142.49|\n",
      "|Pegasus|            23|            162.74|\n",
      "+-------+--------------+------------------+\n",
      "\n",
      "+----------+--------------+------------------+\n",
      "|     Brand|Departure Time|     Average Price|\n",
      "+----------+--------------+------------------+\n",
      "|Anadolujet|            00|            327.99|\n",
      "|Anadolujet|            06|            426.37|\n",
      "|Anadolujet|            07| 418.4888235294118|\n",
      "|Anadolujet|            08|            356.99|\n",
      "|Anadolujet|            09|            358.99|\n",
      "|Anadolujet|            10|            232.99|\n",
      "|Anadolujet|            11|            469.99|\n",
      "|Anadolujet|            12|            533.99|\n",
      "|Anadolujet|            13|            204.49|\n",
      "|Anadolujet|            15|           449.865|\n",
      "|Anadolujet|            16|           448.754|\n",
      "|Anadolujet|            18| 278.8233333333333|\n",
      "|Anadolujet|            19| 526.1416666666668|\n",
      "|Anadolujet|            20|377.96000000000004|\n",
      "|Anadolujet|            21|            281.24|\n",
      "|Anadolujet|            22|            189.99|\n",
      "+----------+--------------+------------------+\n",
      "\n"
     ]
    }
   ],
   "source": [
    "THY = fdata.filter(fdata[\"Brand\"]==\"THY\")\n",
    "Pegasus = fdata.filter(fdata[\"Brand\"]==\"Pegasus\")\n",
    "Anadolujet = fdata.filter(fdata[\"Brand\"]==\"Anadolujet\")\n",
    "OnurAir = fdata.filter(fdata[\"Brand\"]==\"Onur Air\")\n",
    "THY.show()\n",
    "Pegasus.show()\n",
    "Anadolujet.show()\n"
   ]
  },
  {
   "cell_type": "code",
   "execution_count": 26,
   "metadata": {},
   "outputs": [],
   "source": [
    "thyprice = THY.select(\"Average Price\").rdd.map(lambda x: x[0]).collect()\n",
    "pegasusprice = Pegasus.select(\"Average Price\").rdd.map(lambda x: x[0]).collect()\n",
    "anadolujetprice = Anadolujet.select(\"Average Price\").rdd.map(lambda x: x[0]).collect()\n"
   ]
  },
  {
   "cell_type": "code",
   "execution_count": 27,
   "metadata": {},
   "outputs": [
    {
     "data": {
      "image/png": "[encoded data removed]",
      "text/plain": [
       "<Figure size 432x288 with 1 Axes>"
      ]
     },
     "metadata": {
      "needs_background": "light"
     },
     "output_type": "display_data"
    },
    {
     "data": {
      "image/png": "[encoded data removed]",
      "text/plain": [
       "<Figure size 432x288 with 1 Axes>"
      ]
     },
     "metadata": {
      "needs_background": "light"
     },
     "output_type": "display_data"
    },
    {
     "data": {
      "image/png": "[encoded data removed]",
      "text/plain": [
       "<Figure size 432x288 with 1 Axes>"
      ]
     },
     "metadata": {
      "needs_background": "light"
     },
     "output_type": "display_data"
    }
   ],
   "source": [
    "from matplotlib import pyplot as plt\n",
    "thy = THY.toPandas()\n",
    "pgs = Pegasus.toPandas()\n",
    "anjet = Anadolujet.toPandas()\n",
    "thyplot = thy.plot(x = \"Departure Time\", y = \"Average Price\", kind = \"bar\", title = \"Turkish Airlines\")\n",
    "pegasusplot = pgs.plot(x = \"Departure Time\", y = \"Average Price\", kind = \"bar\", title = \"Pegasus\")\n",
    "anjetplot = anjet.plot(x = \"Departure Time\", y = \"Average Price\", kind = \"bar\", title = \"Anadolujet\")"
   ]
  },
  {
   "cell_type": "code",
   "execution_count": 28,
   "metadata": {},
   "outputs": [
    {
     "name": "stdout",
     "output_type": "stream",
     "text": [
      "+-------+--------------+------+\n",
      "|  Brand|Departure Time| Price|\n",
      "+-------+--------------+------+\n",
      "|Pegasus|         08:15| 87.99|\n",
      "|Pegasus|         08:15| 87.99|\n",
      "|Pegasus|         18:10| 87.99|\n",
      "|Pegasus|         09:40| 87.99|\n",
      "|Pegasus|         11:20| 87.99|\n",
      "|Pegasus|         18:20| 87.99|\n",
      "|Pegasus|         17:25| 87.99|\n",
      "|Pegasus|         07:10| 87.99|\n",
      "|Pegasus|         06:10| 87.99|\n",
      "|Pegasus|         12:40| 97.99|\n",
      "|Pegasus|         06:10| 97.99|\n",
      "|Pegasus|         11:20| 97.99|\n",
      "|Pegasus|         17:25| 97.99|\n",
      "|Pegasus|         14:25| 97.99|\n",
      "|Pegasus|         15:45| 97.99|\n",
      "|Pegasus|         19:25|107.99|\n",
      "|Pegasus|         18:00|107.99|\n",
      "|Pegasus|         23:30|107.99|\n",
      "|Pegasus|         15:50|107.99|\n",
      "|Pegasus|         23:30|107.99|\n",
      "+-------+--------------+------+\n",
      "only showing top 20 rows\n",
      "\n"
     ]
    }
   ],
   "source": [
    "\n",
    "dff2 = rawdataframe.orderBy('Price', ascending=True)\n",
    "dff2.show()"
   ]
  },
  {
   "cell_type": "code",
   "execution_count": 29,
   "metadata": {},
   "outputs": [
    {
     "name": "stdout",
     "output_type": "stream",
     "text": [
      "+----------+--------------+------+\n",
      "|     Brand|Departure Time| Price|\n",
      "+----------+--------------+------+\n",
      "|       THY|         19:55|726.99|\n",
      "|       THY|         19:55|726.99|\n",
      "|       THY|         20:00|725.99|\n",
      "|       THY|         09:50|725.99|\n",
      "|       THY|         11:25|725.99|\n",
      "|       THY|         18:00|725.99|\n",
      "|       THY|         11:25|725.99|\n",
      "|       THY|         20:00|725.99|\n",
      "|       THY|         16:00|725.99|\n",
      "|       THY|         16:00|725.99|\n",
      "|       THY|         21:00|725.99|\n",
      "|       THY|         15:35|715.99|\n",
      "|       THY|         11:15|714.99|\n",
      "|       THY|         16:15|714.99|\n",
      "|       THY|         15:25|714.99|\n",
      "|       THY|         20:00|714.99|\n",
      "|       THY|         16:00|714.99|\n",
      "|       THY|         19:20|714.99|\n",
      "|Anadolujet|         19:20|711.99|\n",
      "|Anadolujet|         15:50|711.99|\n",
      "+----------+--------------+------+\n",
      "only showing top 20 rows\n",
      "\n"
     ]
    }
   ],
   "source": [
    "dff = rawdataframe.orderBy('Price', ascending=False)\n",
    "dff.show()"
   ]
  },
  {
   "cell_type": "code",
   "execution_count": null,
   "metadata": {},
   "outputs": [],
   "source": []
  },
  {
   "cell_type": "code",
   "execution_count": null,
   "metadata": {},
   "outputs": [],
   "source": []
  }
 ],
 "metadata": {
  "kernelspec": {
   "display_name": "Python 3",
   "language": "python",
   "name": "python3"
  },
  "language_info": {
   "codemirror_mode": {
    "name": "ipython",
    "version": 3
   },
   "file_extension": ".py",
   "mimetype": "text/x-python",
   "name": "python",
   "nbconvert_exporter": "python",
   "pygments_lexer": "ipython3",
   "version": "3.7.6"
  }
 },
 "nbformat": 4,
 "nbformat_minor": 4
}
