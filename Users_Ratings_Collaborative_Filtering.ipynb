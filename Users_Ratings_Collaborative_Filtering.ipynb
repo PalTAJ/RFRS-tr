{
 "cells": [
  {
   "cell_type": "code",
   "execution_count": 1,
   "metadata": {},
   "outputs": [],
   "source": [
    "import pandas as pd\n",
    "from pyspark.sql import SQLContext\n",
    "from pyspark.sql.functions import *\n",
    "from pyspark.ml.recommendation import ALS\n",
    "\n",
    "\n",
    "\n",
    "from pyspark.sql.types import *\n",
    "from pyspark.ml.recommendation import ALS, ALSModel\n",
    "from pyspark.mllib.evaluation import RegressionMetrics, RankingMetrics\n",
    "from pyspark.ml.evaluation import RegressionEvaluator\n",
    "from pyspark.sql.session import SparkSession\n",
    "\n",
    "\n",
    "from pyspark import SparkContext\n",
    "\n",
    "sc = SparkContext()\n",
    "sqlContext = SQLContext(sc)\n",
    "\n",
    "\n",
    "spark = SparkSession(sc)\n",
    "\n",
    "\n",
    "\n",
    "\n"
   ]
  },
  {
   "cell_type": "code",
   "execution_count": null,
   "metadata": {},
   "outputs": [],
   "source": []
  },
  {
   "cell_type": "code",
   "execution_count": 34,
   "metadata": {
    "scrolled": true
   },
   "outputs": [
    {
     "name": "stdout",
     "output_type": "stream",
     "text": [
      "+----------+-------+------+\n",
      "|airline_id|user_id|rating|\n",
      "+----------+-------+------+\n",
      "|         1|  13366|     3|\n",
      "|         1|  12693|     3|\n",
      "|         1|  10785|     2|\n",
      "|         1|  12387|     2|\n",
      "|         3|  12128|     8|\n",
      "|         1|   6206|     2|\n",
      "|         3|  11946|     9|\n",
      "|         1|   6616|     3|\n",
      "|         1|   1389|     8|\n",
      "|         2|  12391|     2|\n",
      "|         1|   8624|     1|\n",
      "|         2|   5242|    10|\n",
      "|         2|   3683|     2|\n",
      "|         3|   5806|     2|\n",
      "|         3|  11392|    10|\n",
      "|         2|  12289|     1|\n",
      "|         2|   8210|     8|\n",
      "|         2|   1093|     0|\n",
      "|         1|   8428|     3|\n",
      "|         1|  12362|     1|\n",
      "+----------+-------+------+\n",
      "only showing top 20 rows\n",
      "\n"
     ]
    }
   ],
   "source": [
    "rdd = sc.textFile('datasets/Users_Rating_Data.csv')\n",
    "rawdata = rdd.map(lambda x: (int(x.split(\",\")[0]) , int(x.split(\",\")[1]),int(x.split(\",\")[2]))).filter(lambda x: x[0] != 'airline_id')\n",
    "\n",
    "\n",
    "rawdataframe = sqlContext.createDataFrame(rawdata, ['airline_id',\"user_id\",\"rating\"])\n",
    "rawdataframe = rawdataframe.orderBy(rand())\n",
    "rawdataframe.show()\n"
   ]
  },
  {
   "cell_type": "code",
   "execution_count": null,
   "metadata": {},
   "outputs": [],
   "source": []
  },
  {
   "cell_type": "code",
   "execution_count": 35,
   "metadata": {},
   "outputs": [
    {
     "name": "stdout",
     "output_type": "stream",
     "text": [
      "+-------+------------------+-----------------+------------------+\n",
      "|summary|        airline_id|          user_id|            rating|\n",
      "+-------+------------------+-----------------+------------------+\n",
      "|  count|            179976|           179976|            179976|\n",
      "|   mean|               2.0|7499.499933324443| 3.497605236253723|\n",
      "| stddev|0.8164988492856836|4330.331511089922|3.1292329290142926|\n",
      "|    min|                 1|                0|                 0|\n",
      "|    max|                 3|            14999|                10|\n",
      "+-------+------------------+-----------------+------------------+\n",
      "\n"
     ]
    }
   ],
   "source": [
    "rawdataframe.head()\n",
    "rawdataframe.describe().show()"
   ]
  },
  {
   "cell_type": "code",
   "execution_count": 36,
   "metadata": {},
   "outputs": [],
   "source": [
    "(training, test) = rawdataframe.randomSplit([0.8, 0.2])\n"
   ]
  },
  {
   "cell_type": "code",
   "execution_count": 42,
   "metadata": {},
   "outputs": [],
   "source": [
    "als = ALS(maxIter=10, regParam=0.02, userCol=\"user_id\", itemCol=\"airline_id\", ratingCol=\"rating\",coldStartStrategy=\"drop\",nonnegative=True)\n",
    "model = als.fit(training)"
   ]
  },
  {
   "cell_type": "code",
   "execution_count": 43,
   "metadata": {},
   "outputs": [
    {
     "name": "stdout",
     "output_type": "stream",
     "text": [
      "+----------+-------+------+----------+\n",
      "|airline_id|user_id|rating|prediction|\n",
      "+----------+-------+------+----------+\n",
      "|         1|    148|     5| 6.7196846|\n",
      "|         1|    471|    10| 6.9970956|\n",
      "|         1|    496|     7|  5.711477|\n",
      "|         1|   1088|     5|  6.341976|\n",
      "|         1|   1645|     8|  7.646962|\n",
      "|         1|   2122|     5| 7.9662423|\n",
      "|         1|   2366|    10| 7.2921357|\n",
      "|         1|   3749|     8| 6.7230973|\n",
      "|         1|   3794|     8|  7.648612|\n",
      "|         1|   3918|     7|  6.086511|\n",
      "|         1|   3918|    10|  6.086511|\n",
      "|         1|   3997|     5|  7.292645|\n",
      "|         1|   4101|     7|  7.967496|\n",
      "|         1|   4519|     5| 6.3930793|\n",
      "|         1|   4818|    10|  7.013397|\n",
      "|         1|   4900|     7|  8.245024|\n",
      "|         1|   4935|     9|   7.65016|\n",
      "|         1|   5156|     0| 0.6502005|\n",
      "|         1|   5518|     0| 1.4087081|\n",
      "|         1|   5518|     2| 1.4087081|\n",
      "+----------+-------+------+----------+\n",
      "only showing top 20 rows\n",
      "\n"
     ]
    }
   ],
   "source": [
    "predictions = model.transform(test)\n",
    "predictions.show()"
   ]
  },
  {
   "cell_type": "code",
   "execution_count": 44,
   "metadata": {},
   "outputs": [
    {
     "name": "stdout",
     "output_type": "stream",
     "text": [
      "Root-mean-square error = 1.6555524869946365\n"
     ]
    }
   ],
   "source": [
    "from pyspark.ml.evaluation import RegressionEvaluator\n",
    "evaluator = RegressionEvaluator(metricName=\"rmse\", labelCol=\"rating\",predictionCol=\"prediction\")\n",
    "rmse = evaluator.evaluate(predictions)\n",
    "print(\"Root-mean-square error = \" + str(rmse))"
   ]
  },
  {
   "cell_type": "code",
   "execution_count": 45,
   "metadata": {},
   "outputs": [
    {
     "name": "stdout",
     "output_type": "stream",
     "text": [
      "+----------+-------+------+\n",
      "|airline_id|user_id|rating|\n",
      "+----------+-------+------+\n",
      "|         1|    471|    10|\n",
      "|         3|    471|     2|\n",
      "|         3|    471|     3|\n",
      "+----------+-------+------+\n",
      "\n"
     ]
    }
   ],
   "source": [
    "single_user = test.filter(test['user_id']==471).select(['airline_id','user_id','rating'])\n",
    "# User had 10 ratings in the test data set \n",
    "# Realistically this should be some sort of hold out set!\n",
    "single_user.show()"
   ]
  },
  {
   "cell_type": "code",
   "execution_count": 46,
   "metadata": {},
   "outputs": [
    {
     "name": "stdout",
     "output_type": "stream",
     "text": [
      "+----------+-------+------+----------+\n",
      "|airline_id|user_id|rating|prediction|\n",
      "+----------+-------+------+----------+\n",
      "|         1|    471|    10| 6.9970956|\n",
      "|         3|    471|     2|0.34230512|\n",
      "|         3|    471|     3|0.34230512|\n",
      "+----------+-------+------+----------+\n",
      "\n"
     ]
    }
   ],
   "source": [
    "recomendations = model.transform(single_user)\n",
    "recomendations.orderBy('prediction',ascending=False).show()"
   ]
  },
  {
   "cell_type": "code",
   "execution_count": null,
   "metadata": {},
   "outputs": [],
   "source": [
    "\n",
    "\n",
    "\n",
    "\n",
    "+----------+-------+------+\n",
    "|airline_id|user_id|rating|\n",
    "+----------+-------+------+\n",
    "|         1|  13366|     3|\n",
    "|         1|  12693|     3|\n",
    "|         1|  10785|     2|\n",
    "|         1|  12387|     2|\n",
    "|         3|  12128|     8|\n",
    "|         1|   6206|     2|\n",
    "|         3|  11946|     9|\n",
    "|         1|   6616|     3|\n",
    "|         1|   1389|     8|\n",
    "|         2|  12391|     2|\n",
    "|         1|   8624|     1|\n",
    "|         2|   5242|    10|\n",
    "|         2|   3683|     2|\n",
    "|         3|   5806|     2|\n",
    "|         3|  11392|    10|\n",
    "|         2|  12289|     1|\n",
    "|         2|   8210|     8|\n",
    "|         2|   1093|     0|\n",
    "|         1|   8428|     3|\n",
    "|         1|  12362|     1|\n",
    "+----------+-------+------+"
   ]
  },
  {
   "cell_type": "code",
   "execution_count": null,
   "metadata": {},
   "outputs": [],
   "source": []
  },
  {
   "cell_type": "code",
   "execution_count": null,
   "metadata": {},
   "outputs": [],
   "source": []
  },
  {
   "cell_type": "code",
   "execution_count": null,
   "metadata": {},
   "outputs": [],
   "source": []
  },
  {
   "cell_type": "code",
   "execution_count": null,
   "metadata": {},
   "outputs": [],
   "source": []
  }
 ],
 "metadata": {
  "kernelspec": {
   "display_name": "Python 3",
   "language": "python",
   "name": "python3"
  },
  "language_info": {
   "codemirror_mode": {
    "name": "ipython",
    "version": 3
   },
   "file_extension": ".py",
   "mimetype": "text/x-python",
   "name": "python",
   "nbconvert_exporter": "python",
   "pygments_lexer": "ipython3",
   "version": "3.7.6"
  }
 },
 "nbformat": 4,
 "nbformat_minor": 4
}
